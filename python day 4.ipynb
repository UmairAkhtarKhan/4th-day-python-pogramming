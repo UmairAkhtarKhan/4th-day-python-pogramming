{
 "cells": [
  {
   "cell_type": "code",
   "execution_count": 7,
   "id": "40f4eada-7427-43a1-bc7e-b750cd73e93d",
   "metadata": {},
   "outputs": [
    {
     "name": "stdout",
     "output_type": "stream",
     "text": [
      "mean is : 28.96551724137931\n",
      "B is greater : 4\n"
     ]
    }
   ],
   "source": [
    "# functions\n",
    "# function is a block of code that perform specfic task whenever it is called,\n",
    "# in bigger programs we create or use existing functions to make code flow neat and clean\n",
    "# two types of functions 1 =built in functions(range(),len(),min(),max() ,type() etc),2= user defined functions which is defined by programmer in code\n",
    "# now we are creating function which find gmean\n",
    "# here we defined function\n",
    "# at defining place inside braces vars called argument\n",
    "def cgmean(a,b):\n",
    "    mean1=(a*b)/(a+b)\n",
    "    print('mean is :',mean1)\n",
    "#here we are calling function \n",
    "# at calling place inside braces vars called parameters\n",
    "cgmean(60,56)\n",
    "# now we are creating function which find greater number\n",
    "def findGreater(a,b):\n",
    "    if a>b:\n",
    "        print(\"A is greater :\",a)\n",
    "    elif b>a:\n",
    "        print(\"B is greater :\",b)\n",
    "    else:\n",
    "        print('A and B are equal or Zero')\n",
    "findGreater(2,4)\n",
    "# if we defined a fuction and not write function body and want that i will write function body later so we will write pass at the place of function body\n",
    "# if we donot write pass then code will give error\n",
    "def findlesser(a,b):\n",
    "    pass\n",
    "        "
   ]
  },
  {
   "cell_type": "code",
   "execution_count": 6,
   "id": "6202bb68-b102-457c-9d59-3049152ab9c4",
   "metadata": {},
   "outputs": [
    {
     "name": "stdout",
     "output_type": "stream",
     "text": [
      "average is : 5.0\n",
      "average is : 6.0\n",
      "average is : 7.5\n",
      "average is : 6.5\n"
     ]
    }
   ],
   "source": [
    "# how to pass arguments to the functions\n",
    "# four types of arguments 1=default arguments,2=keyword arguments,3=variable length arguments,4=required arguments\n",
    "# no 1 default arguments(below is example of default arguments we set the argument value as default)\n",
    "def average1(a=6,b=4):\n",
    "    print('average is :',(a+b)/2)\n",
    "average1()\n",
    "# but if we give the value to arguments at calling place then it will ignore the default values \n",
    "average1(3,9)\n",
    "# if we want to keep a as default value\n",
    "average1(b=9)\n",
    "# if we want to keep b as default value\n",
    "average1(9)\n"
   ]
  },
  {
   "cell_type": "code",
   "execution_count": 5,
   "id": "0d83c4a0-6ea2-45b4-a1ee-09ad1f0a89b4",
   "metadata": {},
   "outputs": [
    {
     "name": "stdout",
     "output_type": "stream",
     "text": [
      "Name is : UmairAkhtar\n"
     ]
    }
   ],
   "source": [
    "# 2 :Keyword arguments \n",
    "# we provide arguments  in this way key=value interprator recognize the arguments by their parameter name,\n",
    "# the order in which arguments passed does not matter\n",
    "def name1(a,b):\n",
    "    print('Name is :',a+b)\n",
    "# in keyword argument we donot care order of arguments\n",
    "name1(b='Akhtar',a='Umair')\n"
   ]
  },
  {
   "cell_type": "code",
   "execution_count": 34,
   "id": "0e73edc9-7a59-466e-8ae8-ab53273c6a96",
   "metadata": {},
   "outputs": [
    {
     "name": "stdout",
     "output_type": "stream",
     "text": [
      "Name is : UmairAkhtar\n"
     ]
    }
   ],
   "source": [
    "# 3:required arguments\n",
    "# if we give b value as default but not give the a value then a becomes required argument we must give its value during calling,\n",
    "def name2(a,b='Akhtar'):\n",
    "    print('Name is :',a+b)\n",
    "name2('Umair')\n"
   ]
  },
  {
   "cell_type": "code",
   "execution_count": 4,
   "id": "4afdb680-2722-4aaf-8bc6-049596d415db",
   "metadata": {},
   "outputs": [
    {
     "name": "stdout",
     "output_type": "stream",
     "text": [
      "<class 'tuple'>\n",
      "Average is : 4.333333333333333\n"
     ]
    }
   ],
   "source": [
    "# variable length argument\n",
    "# below the example of variable lenth argument\n",
    "def average2(*numbers):\n",
    "    sum=0\n",
    "    print(type(numbers))\n",
    "    for i in numbers:\n",
    "        sum=sum+i\n",
    "    print('Average is :',sum/len(numbers))\n",
    "average2(3,4,6)\n"
   ]
  },
  {
   "cell_type": "code",
   "execution_count": 3,
   "id": "fa39b71e-4368-4e19-b36c-de23caf69363",
   "metadata": {},
   "outputs": [
    {
     "name": "stdout",
     "output_type": "stream",
     "text": [
      "<class 'dict'>\n",
      "Hello Mr Umair Akhtar\n"
     ]
    }
   ],
   "source": [
    "# if we want to take variable length argument as dictionary we do like this\n",
    "def name2(**name):\n",
    "    print(type(name))\n",
    "    print('Hello',name['title'],name['fname'],name['Lname'])\n",
    "    \n",
    "    \n",
    "name2(title='Mr',fname='Umair',Lname='Akhtar')"
   ]
  },
  {
   "cell_type": "code",
   "execution_count": 2,
   "id": "9b3d3d3f-8d3d-4532-8764-4897702d2d69",
   "metadata": {},
   "outputs": [
    {
     "name": "stdout",
     "output_type": "stream",
     "text": [
      "Average is : 27.0\n"
     ]
    }
   ],
   "source": [
    "# return statement (it return the value of the expression to the calling function)\n",
    "def average3(*numbers):\n",
    "    sum=0\n",
    "    for i in numbers:\n",
    "        sum=sum+i\n",
    "    return sum/len(numbers)\n",
    "c=average3(3,44,34)\n",
    "print('Average is :',c)\n",
    "    "
   ]
  },
  {
   "cell_type": "code",
   "execution_count": 49,
   "id": "de7d2d1a-66d7-4865-9cbc-f09a75798363",
   "metadata": {},
   "outputs": [
    {
     "name": "stdout",
     "output_type": "stream",
     "text": [
      "[1, 2, 3, 4, 5]\n",
      "<class 'list'>\n",
      "1\n",
      "2\n",
      "5\n",
      "['umair', 10, 12, True, 1.1]\n",
      "12\n",
      "12\n",
      "12\n",
      "12\n",
      "L2 have yellow\n",
      "['red', 'green', 'yellow', 'blue', 'purple', 'skyblue']\n",
      "['red', 'green', 'yellow', 'blue', 'purple', 'skyblue']\n",
      "['green', 'yellow', 'blue']\n",
      "['green', 'yellow', 'blue']\n",
      "['green', 'blue']\n",
      "['red', 'green', 'yellow', 'blue', 'purple', 'skyblue']\n",
      "[1, 4, 9, 16, 25]\n",
      "['blue', 'purple', 'skyblue']\n",
      "[10, 20, 30, 40, 50]\n",
      "[10, 20, 30, 40, 50, 60]\n",
      "[43, 22, 30, 3, 0]\n",
      "[0, 3, 22, 30, 43]\n",
      "[43, 30, 22, 3, 0]\n",
      "[60, 50, 40, 30, 20, 10]\n",
      "['Umair', 'Ibrahim', 'Ibtisham']\n",
      "['Umair', 'Ibrahim', 'Ibtisham', 'Ubaid']\n",
      "['Umair', 'Ibrahim', 'Ibtisham', 60, 50, 40, 30, 20, 10]\n",
      "['blue', 'purple', 'skyblue', 60, 50, 40, 30, 20, 10]\n"
     ]
    }
   ],
   "source": [
    "# list in python\n",
    "# 1 lists is order collection of data items\n",
    "# 2 it can store miltiple items in single variable\n",
    "# 3 list items are seprated by commas and enclosed in [] square brackets\n",
    "# 4 list are changeable or mutable we can alter them or change them by accessing via index numbers\n",
    "l=[1,2,3,4,5]\n",
    "print(l)\n",
    "print(type(l))\n",
    "# we can access list items by index numbers,index starts from 0\n",
    "print(l[0])\n",
    "print(l[1])\n",
    "print(l[4])\n",
    "# in a list we can add different data types items example is below\n",
    "l1=['umair',10,12,True,1.1]\n",
    "print(l1)\n",
    "# when we access list via negative index ,first we convert it into positive index\n",
    "# below all give same answer\n",
    "print(l1[-3])\n",
    "# positive index\n",
    "print(l1[len(l1)-3])\n",
    "# posititive index\n",
    "print(l1[5-3])\n",
    "# posititive index\n",
    "print(l1[2])\n",
    "# use condition on list\n",
    "l2=['red','green','yellow','blue','purple','skyblue']\n",
    "if  'yellow' in l2:\n",
    "    print('L2 have yellow')\n",
    "else:\n",
    "    print('yellow is absent')\n",
    "# printing list\n",
    "# if we want to print whole list we can do below 2 ways\n",
    "print(l2)\n",
    "print(l2[:])\n",
    "# if we want to print specific range we can do below 2 ways \n",
    "print(l2[1:4])\n",
    "print(l2[1:-2])\n",
    "# we can jump or slicing in list\n",
    "print(l2[1:4:2])\n",
    "# list comprehension is used when we create new list from other iterateabels like list ,dict,tuple,sets,arrays\n",
    "l3=[i for i in l2]\n",
    "print(l3)\n",
    "# we can use any expression during list comprehension\n",
    "l4=[i*i for i in l]\n",
    "print(l4)\n",
    "# we can use condition during list comprehension\n",
    "l5=[i for i in l2 if 'u' in i]\n",
    "print(l5)\n",
    "# append method add item at the end of list\n",
    "l6=[10,20,30,40,50]\n",
    "print(l6)\n",
    "l6.append(60)\n",
    "print(l6)\n",
    "# sort method sort items in accesnding order \n",
    "l7=[43,22,30,3,0]\n",
    "print(l7)\n",
    "l7.sort()\n",
    "print(l7)\n",
    "# if we want to sort items in decesnding order\n",
    "l7.sort(reverse=True)\n",
    "print(l7)\n",
    "# reverse method reverse the our oiginal list\n",
    "l6.reverse()\n",
    "print(l6)\n",
    "# index method returns the index of item of first occurence\n",
    "l8=[12,23,34]\n",
    "l8.index(34)\n",
    "# conunt method return the count of the number of items\n",
    "l9=[13,14,24,56,14,14]\n",
    "l9.count(14)\n",
    "# copy method returns the copy of list,and perform operation on copy without modifying original list\n",
    "l10=['Umair','Ibrahim','Ibtisham']\n",
    "l11=l10.copy()\n",
    "print(l11)\n",
    "# insert method insert value at the given index of list\n",
    "l11.insert(4,'Ubaid')\n",
    "print(l11)\n",
    "# extend method add another list or any other collection of datatype(sets,tupels,dict) to existing list\n",
    "l10.extend(l6)\n",
    "print(l10)\n",
    "# we can concatinate two lists\n",
    "l12=l5+l6\n",
    "print(l12)\n",
    "\n",
    "\n",
    "    \n",
    "\n"
   ]
  },
  {
   "cell_type": "code",
   "execution_count": 77,
   "id": "7a66bd9a-bdcc-4215-8ccb-3fa621424be8",
   "metadata": {},
   "outputs": [
    {
     "name": "stdout",
     "output_type": "stream",
     "text": [
      "(1, 2, 3, 4, 5, 6)\n",
      "<class 'tuple'> \n",
      " (1,)\n",
      "1\n",
      "2\n",
      "3\n",
      "6\n",
      "tuple have 1\n",
      "('pakistan', 'palestine', 'india', 'usa')\n",
      "['pakistan', 'palestine', 'india', 'usa']\n",
      "['palestine', 'india', 'usa']\n",
      "['palestine', 'india', 'usa', 'russia']\n",
      "['palestine', 'india', 'romainia', 'russia']\n",
      "('palestine', 'india', 'romainia', 'russia')\n",
      "(1, 2, 3, 4, 5, 6, 'palestine', 'india', 'romainia', 'russia')\n",
      "4\n",
      "3\n"
     ]
    }
   ],
   "source": [
    "# tuples\n",
    "# tuples are order collection of data items in single variable\n",
    "# tupels are seperated by commas and enclosed in braces()\n",
    "# tupels are unmuteable or unchangeable after creation means we can not change once we have created\n",
    "t1=(1,2,3,4,5,6)\n",
    "print(t1)\n",
    "# when we create 1 item tuple we need to must add ,comma after item then it consider as tple\n",
    "t2=(1,)\n",
    "print(type(t2),'\\n',t2)\n",
    "# accessing tuple items\n",
    "print(t1[0])\n",
    "print(t1[1])\n",
    "print(t1[2])\n",
    "# negative indexing and slicing and negative to positive index conversion as same in tuple like list\n",
    "print(t1[-1])\n",
    "# use in keyword and ifelse condition in tuple\n",
    "if 1 in t1:\n",
    "    print(\"tuple have 1\")\n",
    "else:\n",
    "    print(\"tuple donot have 1\")\n",
    "# manipulating tuple,tuple is unmuteable or unchangeable we canot change tuple once we created,\n",
    "# if we want to change tuple first we convert it into list and then change and again convert it into tuple\n",
    "t3=('pakistan','palestine','india','usa')\n",
    "print(t3)\n",
    "tl=list(t3)\n",
    "print(tl)\n",
    "# removing item in tuple by conversion in list\n",
    "tl.pop(0)\n",
    "print(tl)\n",
    "# inserting item in tuple by conversion in list\n",
    "tl.insert(5,'russia')\n",
    "print(tl)\n",
    "tl[2]='romainia'\n",
    "print(tl)\n",
    "t4=tuple(tl)\n",
    "print(t4)\n",
    "# we can concatinate twwo tuples (with out conversion in list)\n",
    "t5=t1+t4\n",
    "print(t5)\n",
    "# count method count the values how many times used in  tuple\n",
    "t6=(1,2,3,4,4,1,1,1)\n",
    "tc=t6.count(1)\n",
    "print(tc)\n",
    "# index method returns the index of value from first occurence\n",
    "ti=t6.index(4)\n",
    "print(ti)\n",
    "\n",
    "\n",
    "\n",
    "\n",
    "    \n"
   ]
  },
  {
   "cell_type": "code",
   "execution_count": 78,
   "id": "8f37f124-8b5e-4a6b-a66c-40bba5b3ce3b",
   "metadata": {},
   "outputs": [
    {
     "name": "stdout",
     "output_type": "stream",
     "text": [
      "My Name is : Umair and my country is Pakistan\n"
     ]
    }
   ],
   "source": [
    "# f string(formatted string) we can add vars in string\n",
    "name='Umair'\n",
    "country='Pakistan'\n",
    "print(f'My Name is : {name} and my country is {country}')"
   ]
  },
  {
   "cell_type": "code",
   "execution_count": 83,
   "id": "61a1a2ee-a6ab-4456-a08c-160f33ab77b8",
   "metadata": {},
   "outputs": [
    {
     "name": "stdout",
     "output_type": "stream",
     "text": [
      "6084\n",
      " Take the number n and converts it into its square \n",
      "    and return to else code \n"
     ]
    }
   ],
   "source": [
    "# python doc string are string literals appear after the defination of function ,class ,module\n",
    "# doc string just after the defination function other wise it does not consider doc string\n",
    "def fsquare(n):\n",
    "    ''' Take the number n and converts it into its square \n",
    "    and return to else code '''\n",
    "    return n**2\n",
    "sq=fsquare(78)\n",
    "print(sq)\n",
    "# we can print and see  doc string like this\n",
    "print(fsquare.__doc__)\n",
    "    "
   ]
  },
  {
   "cell_type": "code",
   "execution_count": null,
   "id": "18c965eb-f807-4fa9-90b4-e938a254ae6c",
   "metadata": {},
   "outputs": [],
   "source": []
  }
 ],
 "metadata": {
  "kernelspec": {
   "display_name": "Python 3 (ipykernel)",
   "language": "python",
   "name": "python3"
  },
  "language_info": {
   "codemirror_mode": {
    "name": "ipython",
    "version": 3
   },
   "file_extension": ".py",
   "mimetype": "text/x-python",
   "name": "python",
   "nbconvert_exporter": "python",
   "pygments_lexer": "ipython3",
   "version": "3.11.7"
  }
 },
 "nbformat": 4,
 "nbformat_minor": 5
}
